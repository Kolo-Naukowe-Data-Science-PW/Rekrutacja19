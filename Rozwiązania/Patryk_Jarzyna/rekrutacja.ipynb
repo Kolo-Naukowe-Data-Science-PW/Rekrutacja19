{
 "cells": [
  {
   "cell_type": "code",
   "execution_count": 1,
   "metadata": {},
   "outputs": [],
   "source": [
    "import pandas as pd\n",
    "import numpy as np\n",
    "import os\n",
    "import cv2"
   ]
  },
  {
   "cell_type": "code",
   "execution_count": 2,
   "metadata": {},
   "outputs": [],
   "source": [
    "def get_min_pixel_euclidean(image):\n",
    "    brightness_max_pixels_coords = np.where(grayscale_img == grayscale_img.max())\n",
    "    euclidean_distances = brightness_max_pixels_coords[0]**2 + brightness_max_pixels_coords[1]**2\n",
    "    euclidean_min_index =  np.where(np.array(euclidean_distances) == np.min(euclidean_distances))[0][0]\n",
    "    \n",
    "    return list(zip(brightness_max_pixels_coords[0], brightness_max_pixels_coords[1]))[euclidean_min_index]"
   ]
  },
  {
   "cell_type": "code",
   "execution_count": 3,
   "metadata": {},
   "outputs": [],
   "source": [
    "images = []\n",
    "os.chdir(r'../../images')\n",
    "for image in os.listdir():\n",
    "    img = cv2.imread(image)\n",
    "    average_color = (np.average(img[:,:,0]), np.average(img[:,:,1]), np.average(img[:,:,2]))\n",
    "    description = image.replace('-', ' ')[12:-15]\n",
    "    image_id = image[-14:-4]\n",
    "    grayscale_img = cv2.cvtColor(img, cv2.COLOR_BGR2GRAY)\n",
    "    height, width = grayscale_img.shape\n",
    "    brightness_median = np.median(grayscale_img)\n",
    "    min_h, min_w = get_min_pixel_euclidean(grayscale_img)\n",
    "    \n",
    "    images.append({'name': image, \"description\": description, 'average_color': average_color, \"image_id\": image_id, \n",
    "                 \"width\": width, \"height\": height, \"brightness_median\": brightness_median,\n",
    "                 \"min_h\": min_h, \"min_w\": min_w})"
   ]
  },
  {
   "cell_type": "code",
   "execution_count": 4,
   "metadata": {},
   "outputs": [],
   "source": [
    "images_df = pd.DataFrame(images)\n",
    "images_df.to_csv(\"../Rozwiązania/Patryk_Jarzyna/images.csv\")"
   ]
  },
  {
   "cell_type": "code",
   "execution_count": 5,
   "metadata": {},
   "outputs": [],
   "source": [
    "path = r'../../../../images'\n",
    "\n",
    "dir_num = 0\n",
    "img_num = 0\n",
    "\n",
    "aggr_path = os.path.join(\"../Rozwiązania/Patryk_Jarzyna/agg-images\")\n",
    "if not os.path.isdir(aggr_path):\n",
    "    os.makedirs(aggr_path)\n",
    "\n",
    "for img_num, image in enumerate(images_df.sort_values(by=['brightness_median'])['name']):\n",
    "    if not img_num % 4:\n",
    "        dir_num += 1\n",
    "    subdir = os.path.join(aggr_path, str(dir_num) + '-images')\n",
    "    if not os.path.isdir(subdir):\n",
    "        os.makedirs(subdir)\n",
    "    \n",
    "    img = cv2.imread(image)\n",
    "    # due to open CV path encoding problems I'm going to change dirs with os module\n",
    "    os.chdir(subdir)\n",
    "    cv2.imwrite(image, img)\n",
    "    os.chdir(path)"
   ]
  }
 ],
 "metadata": {
  "kernelspec": {
   "display_name": "Python 3",
   "language": "python",
   "name": "python3"
  },
  "language_info": {
   "codemirror_mode": {
    "name": "ipython",
    "version": 3
   },
   "file_extension": ".py",
   "mimetype": "text/x-python",
   "name": "python",
   "nbconvert_exporter": "python",
   "pygments_lexer": "ipython3",
   "version": "3.7.0"
  }
 },
 "nbformat": 4,
 "nbformat_minor": 2
}
