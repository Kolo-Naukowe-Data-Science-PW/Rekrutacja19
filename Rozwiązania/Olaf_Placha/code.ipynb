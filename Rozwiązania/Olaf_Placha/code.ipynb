{
 "cells": [
  {
   "cell_type": "code",
   "execution_count": 1,
   "metadata": {},
   "outputs": [],
   "source": [
    "import pandas as pd\n",
    "import numpy as np\n",
    "import os\n",
    "import cv2\n",
    "import shutil\n",
    "import matplotlib.image as img"
   ]
  },
  {
   "cell_type": "code",
   "execution_count": 2,
   "metadata": {},
   "outputs": [],
   "source": [
    "def replacer(string):\n",
    "    result = \"\"\n",
    "    for char in string:\n",
    "        if char == \"-\":\n",
    "            result += \" \"\n",
    "        else:\n",
    "            result += char\n",
    "    return result[12:-15]"
   ]
  },
  {
   "cell_type": "code",
   "execution_count": 3,
   "metadata": {},
   "outputs": [],
   "source": [
    "def brightest(matrix):\n",
    "    mini = 0\n",
    "    mini_h = 0\n",
    "    mini_v = 0\n",
    "    mini_e = 0\n",
    "    for i in range((matrix).shape[0]):\n",
    "        for y in range((matrix).shape[1]):\n",
    "            if (matrix[i,y] > mini) or (matrix[i,y] == mini and i*i + y*y < mini_e):\n",
    "                mini = matrix[i,y]\n",
    "                mini_h = i\n",
    "                mini_v = y\n",
    "                mini_e = i*i + y*y #no need to use sqrt\n",
    "    return mini_h, mini_v                "
   ]
  },
  {
   "cell_type": "code",
   "execution_count": 4,
   "metadata": {},
   "outputs": [],
   "source": [
    "col = ['Id', 'Filename', 'Description', 'Width', 'Height', 'Mean color',\n",
    "         'Median brightness', 'Horizontal idx', 'Vertical idx']\n",
    "df = pd.DataFrame(columns = col)"
   ]
  },
  {
   "cell_type": "code",
   "execution_count": 5,
   "metadata": {},
   "outputs": [],
   "source": [
    "src = \"C:/Users/Olaf/Desktop/Rekrutacja DS/images/\"\n",
    "for i, file in enumerate(os.listdir(src)):\n",
    "    data = {}\n",
    "    image = img.imread(src+file)\n",
    "    image_g = cv2.cvtColor(image, cv2.COLOR_RGB2GRAY)\n",
    "    data['Id'] = file[-14:-4]\n",
    "    data['Filename'] = file\n",
    "    data['Description'] = replacer(file)\n",
    "    data['Width'] = image.shape[1]\n",
    "    data['Height'] = image.shape[0]\n",
    "    data['Mean color'] = [round(image[:,:,0].mean(),2), round(image[:,:,1].mean(),2), round(image[:,:,2].mean(),2)]\n",
    "    data['Median brightness'] = np.median(image_g)\n",
    "    data['Horizontal idx'], data['Vertical idx'] = brightest(image_g)\n",
    "    df = df.append(data, ignore_index=True)"
   ]
  },
  {
   "cell_type": "code",
   "execution_count": 6,
   "metadata": {},
   "outputs": [],
   "source": [
    "df.to_csv('images.csv')"
   ]
  },
  {
   "cell_type": "code",
   "execution_count": 7,
   "metadata": {},
   "outputs": [],
   "source": [
    "medians = {}\n",
    "for file in os.listdir(src):\n",
    "    image = img.imread(src+file)\n",
    "    image_g = cv2.cvtColor(image, cv2.COLOR_RGB2GRAY)\n",
    "    medians[file] = np.median(image_g)"
   ]
  },
  {
   "cell_type": "code",
   "execution_count": 8,
   "metadata": {},
   "outputs": [],
   "source": [
    "os.mkdir('agg-images')"
   ]
  },
  {
   "cell_type": "code",
   "execution_count": 10,
   "metadata": {},
   "outputs": [],
   "source": [
    "for i, file in enumerate(sorted(medians, key=medians.__getitem__)):\n",
    "    if i % 4 == 0:\n",
    "        os.mkdir('agg-images/['+str(i//4+1)+']-images')\n",
    "    shutil.move(src+file,'agg-images/['+str(i//4+1)+']-images/'+file)"
   ]
  }
 ],
 "metadata": {
  "kernelspec": {
   "display_name": "Python 3",
   "language": "python",
   "name": "python3"
  },
  "language_info": {
   "codemirror_mode": {
    "name": "ipython",
    "version": 3
   },
   "file_extension": ".py",
   "mimetype": "text/x-python",
   "name": "python",
   "nbconvert_exporter": "python",
   "pygments_lexer": "ipython3",
   "version": "3.7.4"
  }
 },
 "nbformat": 4,
 "nbformat_minor": 2
}
